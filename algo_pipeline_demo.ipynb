{
 "cells": [
  {
   "cell_type": "code",
   "execution_count": 1,
   "id": "growing-wallpaper",
   "metadata": {},
   "outputs": [],
   "source": [
    "import pandas as pd\n",
    "class DataHandler:\n",
    "    \"\"\"\n",
    "        Get data from GSC Bucket \n",
    "    \"\"\"\n",
    "    def __init__(self):\n",
    "        self.csvfile1 = pd.read_csv('./data/listings_final.csv')\n",
    "        self.csvfile2 = pd.read_csv('./data/price_availability.csv')\n",
    "        g = price.groupby('listing_id');\n",
    "        listing['price_avg']=0\n",
    "        for(i,x) in listing.iterrows():\n",
    "            if i in listing.index and x.listing_id in g.groups.keys():\n",
    "                listing.loc[i,'price_avg'] = g.get_group(x.listing_id).local_price.mean()\n",
    "        self.gouped_data = listing"
   ]
  },
  {
   "cell_type": "code",
   "execution_count": null,
   "id": "otherwise-rainbow",
   "metadata": {},
   "outputs": [],
   "source": [
    "class FeatureRecipe:\n",
    "    \"\"\"\n",
    "    Feature processing class \n",
    "    \"\"\"\n",
    "    def __init__(self, data: pd.DataFrame):\n",
    "        self.data = data\n",
    "        self.continuous = None\n",
    "        self.categorical = None\n",
    "        self.discrete = None\n",
    "        self.datetime = None"
   ]
  },
  {
   "cell_type": "code",
   "execution_count": null,
   "id": "concrete-volleyball",
   "metadata": {},
   "outputs": [],
   "source": [
    "class FeatureExtractor:\n",
    "    \"\"\"\n",
    "    Feature Extractor class\n",
    "    \"\"\"    \n",
    "    def __init__(self, data: pd.DataFrame, flist: list):\n",
    "        \"\"\"\n",
    "            Input : pandas.DataFrame, feature list to drop\n",
    "            Output : X_train, X_test, y_train, y_test according to sklearn.model_selection.train_test_split\n",
    "        \"\"\""
   ]
  },
  {
   "cell_type": "code",
   "execution_count": null,
   "id": "regulated-handle",
   "metadata": {},
   "outputs": [],
   "source": [
    "class ModelBuilder:\n",
    "    \"\"\"\n",
    "        Class for train and print results of ml model \n",
    "    \"\"\"\n",
    "    def __init__(self, model_path: str = None, save: bool = None):\n",
    "        pass\n",
    "    def __repr__(self):\n",
    "        pass\n",
    "    def train(self, X, Y):\n",
    "        pass\n",
    "    def predict_test(self, X) -> np.ndarray:\n",
    "        pass\n",
    "    def predict_from_dump(self, X) -> np.ndarray:\n",
    "        pass\n",
    "    def save_model(self, path:str):\n",
    "        #with the format : 'model_{}_{}'.format(date)\n",
    "        pass\n",
    "    def print_accuracy(self):\n",
    "        pass\n",
    "    def load_model(self):\n",
    "        try:\n",
    "            #load model\n",
    "            pass\n",
    "        except:\n",
    "            pass"
   ]
  },
  {
   "cell_type": "code",
   "execution_count": null,
   "id": "light-short",
   "metadata": {},
   "outputs": [],
   "source": [
    "def DataManager(d:DataHandler=None, fr: FeatureRecipe=None, fe:FeatureExtractor=None):\n",
    "    \"\"\"\n",
    "        Fonction qui lie les 3 premières classes de la pipeline et qui return FeatureExtractor.split(0.1)\n",
    "    \"\"\"\n",
    "    pass\n",
    "#on appelera la fonction DataManager() de la facon suivante : \n",
    "X_train, X_test, y_train, y_test = DataManager()"
   ]
  },
  {
   "cell_type": "code",
   "execution_count": null,
   "id": "inside-dryer",
   "metadata": {},
   "outputs": [],
   "source": []
  }
 ],
 "metadata": {
  "kernelspec": {
   "display_name": "Python 3",
   "language": "python",
   "name": "python3"
  },
  "language_info": {
   "codemirror_mode": {
    "name": "ipython",
    "version": 3
   },
   "file_extension": ".py",
   "mimetype": "text/x-python",
   "name": "python",
   "nbconvert_exporter": "python",
   "pygments_lexer": "ipython3",
   "version": "3.8.2"
  }
 },
 "nbformat": 4,
 "nbformat_minor": 5
}
